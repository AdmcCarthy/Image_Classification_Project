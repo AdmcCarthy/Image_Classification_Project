{
 "cells": [
  {
   "cell_type": "markdown",
   "metadata": {
    "collapsed": true
   },
   "source": [
    "# Image Classification\n",
    "In this project, you'll classify images from the [CIFAR-10 dataset](https://www.cs.toronto.edu/~kriz/cifar.html).  The dataset consists of airplanes, dogs, cats, and other objects. You'll preprocess the images, then train a convolutional neural network on all the samples. The images need to be normalized and the labels need to be one-hot encoded.  You'll get to apply what you learned and build a convolutional, max pooling, dropout, and fully connected layers.  At the end, you'll get to see your neural network's predictions on the sample images.\n",
    "## Get the Data\n",
    "Run the following cell to download the [CIFAR-10 dataset for python](https://www.cs.toronto.edu/~kriz/cifar-10-python.tar.gz)."
   ]
  },
  {
   "cell_type": "code",
   "execution_count": 5,
   "metadata": {},
   "outputs": [
    {
     "name": "stderr",
     "output_type": "stream",
     "text": [
      "CIFAR-10 Dataset: 171MB [01:53, 1.50MB/s]                              \n"
     ]
    },
    {
     "name": "stdout",
     "output_type": "stream",
     "text": [
      "All files found!\n"
     ]
    }
   ],
   "source": [
    "\"\"\"\n",
    "DON'T MODIFY ANYTHING IN THIS CELL THAT IS BELOW THIS LINE\n",
    "\"\"\"\n",
    "from urllib.request import urlretrieve\n",
    "from os.path import isfile, isdir\n",
    "from tqdm import tqdm\n",
    "import problem_unittests as tests\n",
    "import tarfile\n",
    "\n",
    "cifar10_dataset_folder_path = 'cifar-10-batches-py'\n",
    "\n",
    "# Use Floyd's cifar-10 dataset if present\n",
    "floyd_cifar10_location = '/input/cifar-10/python.tar.gz'\n",
    "if isfile(floyd_cifar10_location):\n",
    "    tar_gz_path = floyd_cifar10_location\n",
    "else:\n",
    "    tar_gz_path = 'cifar-10-python.tar.gz'\n",
    "\n",
    "class DLProgress(tqdm):\n",
    "    last_block = 0\n",
    "\n",
    "    def hook(self, block_num=1, block_size=1, total_size=None):\n",
    "        self.total = total_size\n",
    "        self.update((block_num - self.last_block) * block_size)\n",
    "        self.last_block = block_num\n",
    "\n",
    "if not isfile(tar_gz_path):\n",
    "    with DLProgress(unit='B', unit_scale=True, miniters=1, desc='CIFAR-10 Dataset') as pbar:\n",
    "        urlretrieve(\n",
    "            'https://www.cs.toronto.edu/~kriz/cifar-10-python.tar.gz',\n",
    "            tar_gz_path,\n",
    "            pbar.hook)\n",
    "\n",
    "if not isdir(cifar10_dataset_folder_path):\n",
    "    with tarfile.open(tar_gz_path) as tar:\n",
    "        tar.extractall()\n",
    "        tar.close()\n",
    "\n",
    "\n",
    "tests.test_folder_path(cifar10_dataset_folder_path)"
   ]
  },
  {
   "cell_type": "markdown",
   "metadata": {},
   "source": [
    "## Explore the Data\n",
    "The dataset is broken into batches to prevent your machine from running out of memory.  The CIFAR-10 dataset consists of 5 batches, named `data_batch_1`, `data_batch_2`, etc.. Each batch contains the labels and images that are one of the following:\n",
    "* airplane\n",
    "* automobile\n",
    "* bird\n",
    "* cat\n",
    "* deer\n",
    "* dog\n",
    "* frog\n",
    "* horse\n",
    "* ship\n",
    "* truck\n",
    "\n",
    "Understanding a dataset is part of making predictions on the data.  Play around with the code cell below by changing the `batch_id` and `sample_id`. The `batch_id` is the id for a batch (1-5). The `sample_id` is the id for a image and label pair in the batch.\n",
    "\n",
    "Ask yourself \"What are all possible labels?\", \"What is the range of values for the image data?\", \"Are the labels in order or random?\".  Answers to questions like these will help you preprocess the data and end up with better predictions."
   ]
  },
  {
   "cell_type": "code",
   "execution_count": 8,
   "metadata": {},
   "outputs": [
    {
     "name": "stdout",
     "output_type": "stream",
     "text": [
      "\n",
      "Stats of batch 1:\n",
      "Samples: 10000\n",
      "Label Counts: {0: 1005, 1: 974, 2: 1032, 3: 1016, 4: 999, 5: 937, 6: 1030, 7: 1001, 8: 1025, 9: 981}\n",
      "First 20 Labels: [6, 9, 9, 4, 1, 1, 2, 7, 8, 3, 4, 7, 7, 2, 9, 9, 9, 3, 2, 6]\n",
      "\n",
      "Example of Image 3133:\n",
      "Image - Min Value: 16 Max Value: 252\n",
      "Image - Shape: (32, 32, 3)\n",
      "Label - Label Id: 4 Name: deer\n"
     ]
    },
    {
     "data": {
      "image/png": "[encoded data removed]",
      "text/plain": [
       "<matplotlib.figure.Figure at 0x118bb0e48>"
      ]
     },
     "metadata": {
      "image/png": {
       "height": 250,
       "width": 253
      }
     },
     "output_type": "display_data"
    }
   ],
   "source": [
    "%matplotlib inline\n",
    "%config InlineBackend.figure_format = 'retina'\n",
    "\n",
    "import helper\n",
    "import numpy as np\n",
    "\n",
    "# Explore the dataset\n",
    "batch_id = 1\n",
    "sample_id = 3133\n",
    "helper.display_stats(cifar10_dataset_folder_path, batch_id, sample_id)"
   ]
  },
  {
   "cell_type": "markdown",
   "metadata": {},
   "source": [
    "## Implement Preprocess Functions\n",
    "### Normalize\n",
    "In the cell below, implement the `normalize` function to take in image data, `x`, and return it as a normalized Numpy array. The values should be in the range of 0 to 1, inclusive.  The return object should be the same shape as `x`."
   ]
  },
  {
   "cell_type": "code",
   "execution_count": 9,
   "metadata": {},
   "outputs": [
    {
     "name": "stdout",
     "output_type": "stream",
     "text": [
      "Tests Passed\n"
     ]
    }
   ],
   "source": [
    "def normalize(x):\n",
    "    \"\"\"\n",
    "    Normalize a list of sample image data in the range of 0 to 1.\n",
    "    \n",
    "    Arguments\n",
    "        x: List of image data.  The image shape is (32, 32, 3)\n",
    "    \n",
    "    returns Numpy array of normalize data\n",
    "    \"\"\"\n",
    "    # Normalize to zero mean and a standard deviation of 1.\n",
    "    x = (x - x.mean()) / x.std()\n",
    "    # Use a min max scaler to make values in range 0 to 1.\n",
    "    x = (x - x.min()) / (x.max() - x.min())\n",
    "    \n",
    "    return x\n",
    "\n",
    "# Unit test\n",
    "tests.test_normalize(normalize)"
   ]
  },
  {
   "cell_type": "markdown",
   "metadata": {},
   "source": [
    "### One-hot encode\n",
    "Just like the previous code cell, you'll be implementing a function for preprocessing.  This time, you'll implement the `one_hot_encode` function. The input, `x`, are a list of labels.  Implement the function to return the list of labels as One-Hot encoded Numpy array.  The possible values for labels are 0 to 9. The one-hot encoding function should return the same encoding for each value between each call to `one_hot_encode`.  Make sure to save the map of encodings outside the function.\n",
    "\n",
    "Hint: Don't reinvent the wheel."
   ]
  },
  {
   "cell_type": "code",
   "execution_count": 10,
   "metadata": {},
   "outputs": [
    {
     "name": "stdout",
     "output_type": "stream",
     "text": [
      "Tests Passed\n"
     ]
    }
   ],
   "source": [
    "def one_hot_encode(x):\n",
    "    \"\"\"\n",
    "    One hot encode a list of sample labels. Return a one-hot encoded vector for each label.\n",
    "\n",
    "    Rather than using Pandas´ dummies a suggestion on stack overflow gives a numpy solution.\n",
    "    https://stackoverflow.com/questions/38592324/one-hot-encoding-using-numpy\n",
    "\n",
    "    Arguments\n",
    "        x: List of sample Labels\n",
    "\n",
    "    returns Numpy array of one-hot encoded labels\n",
    "    \"\"\"\n",
    "    # Number of classes\n",
    "    nb_classes = 10\n",
    "    # Use numpy to give one hot encoding.\n",
    "    one_hot_x = np.eye(nb_classes)[x]\n",
    "\n",
    "    return one_hot_x\n",
    "\n",
    "# Unit test\n",
    "tests.test_one_hot_encode(one_hot_encode)"
   ]
  },
  {
   "cell_type": "markdown",
   "metadata": {},
   "source": [
    "### Randomize Data\n",
    "As you saw from exploring the data above, the order of the samples are randomized.  It doesn't hurt to randomize it again, but you don't need to for this dataset."
   ]
  },
  {
   "cell_type": "markdown",
   "metadata": {},
   "source": [
    "## Preprocess all the data and save it\n",
    "Running the code cell below will preprocess all the CIFAR-10 data and save it to file. The code below also uses 10% of the training data for validation."
   ]
  },
  {
   "cell_type": "code",
   "execution_count": 11,
   "metadata": {
    "collapsed": true
   },
   "outputs": [],
   "source": [
    "\"\"\"\n",
    "DON'T MODIFY ANYTHING IN THIS CELL\n",
    "\"\"\"\n",
    "# Preprocess Training, Validation, and Testing Data\n",
    "helper.preprocess_and_save_data(cifar10_dataset_folder_path, normalize, one_hot_encode)"
   ]
  },
  {
   "cell_type": "markdown",
   "metadata": {},
   "source": [
    "# Check Point\n",
    "This is your first checkpoint.  If you ever decide to come back to this notebook or have to restart the notebook, you can start from here.  The preprocessed data has been saved to disk."
   ]
  },
  {
   "cell_type": "code",
   "execution_count": 2,
   "metadata": {
    "collapsed": true
   },
   "outputs": [],
   "source": [
    "\"\"\"\n",
    "DON'T MODIFY ANYTHING IN THIS CELL\n",
    "\"\"\"\n",
    "import pickle\n",
    "import problem_unittests as tests\n",
    "import helper\n",
    "\n",
    "# Load the Preprocessed Validation data\n",
    "valid_features, valid_labels = pickle.load(open('preprocess_validation.p', mode='rb'))"
   ]
  },
  {
   "cell_type": "markdown",
   "metadata": {},
   "source": [
    "## Build the network\n",
    "For the neural network, you'll build each layer into a function.  Most of the code you've seen has been outside of functions. To test your code more thoroughly, we require that you put each layer in a function.  This allows us to give you better feedback and test for simple mistakes using our unittests before you submit your project.\n",
    "\n",
    ">**Note:** If you're finding it hard to dedicate enough time for this course each week, we've provided a small shortcut to this part of the project. In the next couple of problems, you'll have the option to use classes from the [TensorFlow Layers](https://www.tensorflow.org/api_docs/python/tf/layers) or [TensorFlow Layers (contrib)](https://www.tensorflow.org/api_guides/python/contrib.layers) packages to build each layer, except the layers you build in the \"Convolutional and Max Pooling Layer\" section.  TF Layers is similar to Keras's and TFLearn's abstraction to layers, so it's easy to pickup.\n",
    "\n",
    ">However, if you would like to get the most out of this course, try to solve all the problems _without_ using anything from the TF Layers packages. You **can** still use classes from other packages that happen to have the same name as ones you find in TF Layers! For example, instead of using the TF Layers version of the `conv2d` class, [tf.layers.conv2d](https://www.tensorflow.org/api_docs/python/tf/layers/conv2d), you would want to use the TF Neural Network version of `conv2d`, [tf.nn.conv2d](https://www.tensorflow.org/api_docs/python/tf/nn/conv2d). \n",
    "\n",
    "Let's begin!\n",
    "\n",
    "### Input\n",
    "The neural network needs to read the image data, one-hot encoded labels, and dropout keep probability. Implement the following functions\n",
    "* Implement `neural_net_image_input`\n",
    " * Return a [TF Placeholder](https://www.tensorflow.org/api_docs/python/tf/placeholder)\n",
    " * Set the shape using `image_shape` with batch size set to `None`.\n",
    " * Name the TensorFlow placeholder \"x\" using the TensorFlow `name` parameter in the [TF Placeholder](https://www.tensorflow.org/api_docs/python/tf/placeholder).\n",
    "* Implement `neural_net_label_input`\n",
    " * Return a [TF Placeholder](https://www.tensorflow.org/api_docs/python/tf/placeholder)\n",
    " * Set the shape using `n_classes` with batch size set to `None`.\n",
    " * Name the TensorFlow placeholder \"y\" using the TensorFlow `name` parameter in the [TF Placeholder](https://www.tensorflow.org/api_docs/python/tf/placeholder).\n",
    "* Implement `neural_net_keep_prob_input`\n",
    " * Return a [TF Placeholder](https://www.tensorflow.org/api_docs/python/tf/placeholder) for dropout keep probability.\n",
    " * Name the TensorFlow placeholder \"keep_prob\" using the TensorFlow `name` parameter in the [TF Placeholder](https://www.tensorflow.org/api_docs/python/tf/placeholder).\n",
    "\n",
    "These names will be used at the end of the project to load your saved model.\n",
    "\n",
    "Note: `None` for shapes in TensorFlow allow for a dynamic size."
   ]
  },
  {
   "cell_type": "code",
   "execution_count": 3,
   "metadata": {},
   "outputs": [
    {
     "name": "stdout",
     "output_type": "stream",
     "text": [
      "Image Input Tests Passed.\n",
      "Label Input Tests Passed.\n",
      "Keep Prob Tests Passed.\n"
     ]
    }
   ],
   "source": [
    "import tensorflow as tf\n",
    "\n",
    "def neural_net_image_input(image_shape):\n",
    "    \"\"\"\n",
    "    Return a Tensor for a batch of image input\n",
    "    : image_shape: Shape of the images\n",
    "    : return: Tensor for image input.\n",
    "    \"\"\"\n",
    "    return tf.placeholder(\n",
    "                          tf.float32, \n",
    "                          shape=[None, image_shape[0], image_shape[1], image_shape[2]], \n",
    "                          name='x'\n",
    "                          )\n",
    "\n",
    "\n",
    "def neural_net_label_input(n_classes):\n",
    "    \"\"\"\n",
    "    Return a Tensor for a batch of label input\n",
    "    : n_classes: Number of classes\n",
    "    : return: Tensor for label input.\n",
    "    \"\"\"\n",
    "    return tf.placeholder(\n",
    "                          tf.float32, \n",
    "                          shape=[None, n_classes], \n",
    "                          name='y'\n",
    "                          )\n",
    "\n",
    "\n",
    "def neural_net_keep_prob_input():\n",
    "    \"\"\"\n",
    "    Return a Tensor for keep probability\n",
    "    : return: Tensor for keep probability.\n",
    "    \"\"\"\n",
    "    return tf.placeholder(tf.float32, name='keep_prob')\n",
    "\n",
    "\n",
    "\"\"\"\n",
    "Unit Tests\n",
    "\"\"\"\n",
    "tf.reset_default_graph()\n",
    "tests.test_nn_image_inputs(neural_net_image_input)\n",
    "tests.test_nn_label_inputs(neural_net_label_input)\n",
    "tests.test_nn_keep_prob_inputs(neural_net_keep_prob_input)"
   ]
  },
  {
   "cell_type": "markdown",
   "metadata": {},
   "source": [
    "### Convolution and Max Pooling Layer\n",
    "Convolution layers have a lot of success with images. For this code cell, you should implement the function `conv2d_maxpool` to apply convolution then max pooling:\n",
    "* Create the weight and bias using `conv_ksize`, `conv_num_outputs` and the shape of `x_tensor`.\n",
    "* Apply a convolution to `x_tensor` using weight and `conv_strides`.\n",
    " * We recommend you use same padding, but you're welcome to use any padding.\n",
    "* Add bias\n",
    "* Add a nonlinear activation to the convolution.\n",
    "* Apply Max Pooling using `pool_ksize` and `pool_strides`.\n",
    " * We recommend you use same padding, but you're welcome to use any padding.\n",
    "\n",
    "**Note:** You **can't** use [TensorFlow Layers](https://www.tensorflow.org/api_docs/python/tf/layers) or [TensorFlow Layers (contrib)](https://www.tensorflow.org/api_guides/python/contrib.layers) for **this** layer, but you can still use TensorFlow's [Neural Network](https://www.tensorflow.org/api_docs/python/tf/nn) package. You may still use the shortcut option for all the **other** layers."
   ]
  },
  {
   "cell_type": "code",
   "execution_count": 4,
   "metadata": {},
   "outputs": [
    {
     "name": "stdout",
     "output_type": "stream",
     "text": [
      "Tests Passed\n"
     ]
    }
   ],
   "source": [
    "def conv2d_maxpool(x_tensor, conv_num_outputs, conv_ksize, conv_strides, pool_ksize, pool_strides):\n",
    "    \"\"\"\n",
    "    Apply convolution then max pooling to x_tensor.\n",
    "    \n",
    "    Parameters\n",
    "    ----------\n",
    "    param x_tensor: TensorFlow Tensor\n",
    "    param conv_num_outputs: Number of outputs for the convolutional layer\n",
    "    param conv_ksize: kernal size 2-D Tuple for the convolutional layer\n",
    "    param conv_strides: Stride 2-D Tuple for convolution\n",
    "    param pool_ksize: kernal size 2-D Tuple for pool\n",
    "    param pool_strides: Stride 2-D Tuple for pool\n",
    "    \n",
    "    Returns\n",
    "    -------\n",
    "    return: A tensor that represents convolution and max pooling of x_tensor\n",
    "    \"\"\"\n",
    "    # Setting for padding\n",
    "    padding = 'SAME'\n",
    "\n",
    "    # Create weights\n",
    "    #\n",
    "    # x_tensor\n",
    "    # `tf.nn.conv2d` requires the input be 4D (batch_size, height, width, depth)\n",
    "    # so shape selects the 4th dimension.\n",
    "    filter_weights = tf.Variable(tf.truncated_normal(\n",
    "                                                     [\n",
    "                                                      conv_ksize[0],            # height\n",
    "                                                      conv_ksize[1],            # width\n",
    "                                                      x_tensor.shape[3].value,  # input_depth\n",
    "                                                      conv_num_outputs          # output_depth\n",
    "                                                     ], stddev=0.01\n",
    "                                                     )\n",
    "                                )\n",
    "    # Create bias\n",
    "    filter_bias = tf.Variable(tf.zeros(conv_num_outputs))  # (output_depth)\n",
    "\n",
    "    # Convolution layer\n",
    "    conv = tf.nn.conv2d(\n",
    "                        x_tensor, \n",
    "                        filter_weights, \n",
    "                        strides=[1, conv_strides[0], conv_strides[1], 1], \n",
    "                        padding=padding\n",
    "                        )\n",
    "    # Add bias to convolution layer\n",
    "    conv = tf.nn.bias_add(conv, filter_bias)\n",
    "    # Max pooling layer\n",
    "    conv = tf.nn.max_pool(\n",
    "                          conv, \n",
    "                          ksize=[1, pool_ksize[0], pool_ksize[1], 1], \n",
    "                          strides=[1, pool_strides[0], pool_strides[1], 1], \n",
    "                          padding=padding\n",
    "                          )\n",
    "    # Non-linear acitivation\n",
    "    # https://www.quora.com/In-Convolutional-Nets-CNN-isnt-the-maxpool-layer-and-ReLU-layer-redundant\n",
    "    conv = tf.nn.relu(conv)\n",
    "\n",
    "    return conv\n",
    "\n",
    "\n",
    "\"\"\"\n",
    "Unit tests\n",
    "\"\"\"\n",
    "tests.test_con_pool(conv2d_maxpool)"
   ]
  },
  {
   "cell_type": "markdown",
   "metadata": {},
   "source": [
    "### Flatten Layer\n",
    "Implement the `flatten` function to change the dimension of `x_tensor` from a 4-D tensor to a 2-D tensor.  The output should be the shape (*Batch Size*, *Flattened Image Size*). Shortcut option: you can use classes from the [TensorFlow Layers](https://www.tensorflow.org/api_docs/python/tf/layers) or [TensorFlow Layers (contrib)](https://www.tensorflow.org/api_guides/python/contrib.layers) packages for this layer. For more of a challenge, only use other TensorFlow packages."
   ]
  },
  {
   "cell_type": "code",
   "execution_count": 5,
   "metadata": {},
   "outputs": [
    {
     "name": "stdout",
     "output_type": "stream",
     "text": [
      "Tests Passed\n"
     ]
    }
   ],
   "source": [
    "def flatten(x_tensor):\n",
    "    \"\"\"\n",
    "    Flatten x_tensor to (Batch Size, Flattened Image Size)\n",
    "    : x_tensor: A tensor of size (batch_size, height, width, depth), where height,\n",
    "      width, and depth are the image dimensions.\n",
    "    : return: A tensor of size (Batch Size, Flattened Image Size).\n",
    "    \"\"\"\n",
    "    height = x_tensor.shape[1].value\n",
    "    width = x_tensor.shape[2].value\n",
    "    depth = x_tensor.shape[3].value\n",
    "    size = height * width * depth\n",
    "    \n",
    "    # pass '[-1]' to flatten 't'\n",
    "    # -1 can also be used to infer the shape\n",
    "    # https://www.tensorflow.org/api_docs/python/tf/reshape\n",
    "    flat_tensor = tf.reshape(x_tensor, [-1, size])\n",
    "    \n",
    "    # Uncomment for the TensorFlow Layer (contrib) package\n",
    "    # flat_tensor = tf.contrib.layers.flatten(x_tensor)\n",
    "    \n",
    "    return flat_tensor\n",
    "\n",
    "\n",
    "\"\"\"\n",
    "Unit test\n",
    "\"\"\"\n",
    "tests.test_flatten(flatten)"
   ]
  },
  {
   "cell_type": "markdown",
   "metadata": {},
   "source": [
    "### Fully-Connected Layer\n",
    "Implement the `fully_conn` function to apply a fully connected layer to `x_tensor` with the shape (*Batch Size*, *num_outputs*). Shortcut option: you can use classes from the [TensorFlow Layers](https://www.tensorflow.org/api_docs/python/tf/layers) or [TensorFlow Layers (contrib)](https://www.tensorflow.org/api_guides/python/contrib.layers) packages for this layer. For more of a challenge, only use other TensorFlow packages."
   ]
  },
  {
   "cell_type": "code",
   "execution_count": 6,
   "metadata": {},
   "outputs": [
    {
     "name": "stdout",
     "output_type": "stream",
     "text": [
      "Tests Passed\n"
     ]
    }
   ],
   "source": [
    "def fully_conn(x_tensor, num_outputs):\n",
    "    \"\"\"\n",
    "    Apply a fully connected layer to x_tensor using weight and bias\n",
    "    : x_tensor: A 2-D tensor where the first dimension is batch size.\n",
    "    : num_outputs: The number of output that the new tensor should be.\n",
    "    : return: A 2-D tensor where the second dimension is num_outputs.\n",
    "    \"\"\"\n",
    "    # Create weights\n",
    "    weights = tf.Variable(tf.truncated_normal(\n",
    "                                              [\n",
    "                                               x_tensor.shape[1].value,  # Size of tensor\n",
    "                                               num_outputs\n",
    "                                              ], stddev=0.01\n",
    "                                             )\n",
    "                          ) \n",
    "    # Create bias\n",
    "    biases = tf.Variable(tf.zeros(num_outputs))  # output size\n",
    "\n",
    "    # Create fully connected layer\n",
    "    fully_connected_layer = tf.add(tf.matmul(x_tensor, weights), biases)\n",
    "    # Activation function\n",
    "    fully_connected_layer = tf.nn.relu(fully_connected_layer)\n",
    "    \n",
    "    # Alternatively this can be implemented using:\n",
    "    #  tf.contrib.layers.fully_connected.\n",
    "\n",
    "    return fully_connected_layer\n",
    "\n",
    "\n",
    "\"\"\"\n",
    "Unit test\n",
    "\"\"\"\n",
    "tests.test_fully_conn(fully_conn)"
   ]
  },
  {
   "cell_type": "markdown",
   "metadata": {},
   "source": [
    "### Output Layer\n",
    "Implement the `output` function to apply a fully connected layer to `x_tensor` with the shape (*Batch Size*, *num_outputs*). Shortcut option: you can use classes from the [TensorFlow Layers](https://www.tensorflow.org/api_docs/python/tf/layers) or [TensorFlow Layers (contrib)](https://www.tensorflow.org/api_guides/python/contrib.layers) packages for this layer. For more of a challenge, only use other TensorFlow packages.\n",
    "\n",
    "**Note:** Activation, softmax, or cross entropy should **not** be applied to this."
   ]
  },
  {
   "cell_type": "code",
   "execution_count": 7,
   "metadata": {},
   "outputs": [
    {
     "name": "stdout",
     "output_type": "stream",
     "text": [
      "Tests Passed\n"
     ]
    }
   ],
   "source": [
    "def output(x_tensor, num_outputs):\n",
    "    \"\"\"\n",
    "    Apply a output layer to x_tensor using weight and bias\n",
    "    : x_tensor: A 2-D tensor where the first dimension is batch size.\n",
    "    : num_outputs: The number of output that the new tensor should be.\n",
    "    : return: A 2-D tensor where the second dimension is num_outputs.\n",
    "    \"\"\"\n",
    "    # Create weights\n",
    "    weights = tf.Variable(tf.truncated_normal(\n",
    "                                              [\n",
    "                                               x_tensor.shape[1].value,  # Size of tensor\n",
    "                                               num_outputs\n",
    "                                              ], stddev=0.01\n",
    "                                             )\n",
    "                          ) \n",
    "    # Create bias\n",
    "    biases = tf.Variable(tf.zeros(num_outputs))  # output size\n",
    "\n",
    "    # Create fully connected layer\n",
    "    output_layer = tf.add(tf.matmul(x_tensor, weights), biases)\n",
    "\n",
    "    return output_layer\n",
    "\n",
    "\"\"\"\n",
    "Unit test\n",
    "\"\"\"\n",
    "tests.test_output(output)"
   ]
  },
  {
   "cell_type": "markdown",
   "metadata": {},
   "source": [
    "### Create Convolutional Model\n",
    "Implement the function `conv_net` to create a convolutional neural network model. The function takes in a batch of images, `x`, and outputs logits.  Use the layers you created above to create this model:\n",
    "\n",
    "* Apply 1, 2, or 3 Convolution and Max Pool layers\n",
    "* Apply a Flatten Layer\n",
    "* Apply 1, 2, or 3 Fully Connected Layers\n",
    "* Apply an Output Layer\n",
    "* Return the output\n",
    "* Apply [TensorFlow's Dropout](https://www.tensorflow.org/api_docs/python/tf/nn/dropout) to one or more layers in the model using `keep_prob`. "
   ]
  },
  {
   "cell_type": "code",
   "execution_count": 14,
   "metadata": {},
   "outputs": [
    {
     "name": "stdout",
     "output_type": "stream",
     "text": [
      "Neural Network Built!\n"
     ]
    }
   ],
   "source": [
    "def conv_net(x, keep_prob):\n",
    "    \"\"\"\n",
    "    Create a convolutional neural network model\n",
    "    : x: Placeholder tensor that holds image data.\n",
    "    : keep_prob: Placeholder tensor that hold dropout keep probability.\n",
    "    : return: Tensor that represents logits\n",
    "    \"\"\"\n",
    "    # This model has ten labels\n",
    "    num_outputs = 10\n",
    "        \n",
    "    # Stride size, the stride of the sliding window for each dimension of the input tensor.\n",
    "    #\n",
    "    # The stride will be kept the same for both convolution and pooling.\n",
    "    s = 1\n",
    "    # Kernel size, the size of the window for each dimension of the input tensor.\n",
    "    #\n",
    "    # The kernel size will used for pooling\n",
    "    k = 2\n",
    "    \n",
    "    # Usually the CNN part has more layers than the fully connected part. \n",
    "    #\n",
    "    # For the kernels, 5, 4 or 3 for are typical values kernels.\n",
    "    # http://cs231n.github.io/convolutional-networks/#architectures\n",
    "    #\n",
    "    # Higher kernel numbers in the first layers and lower in the next ones.\n",
    "    #\n",
    "    # Function Definition from Above:\n",
    "    #   conv2d_maxpool(x_tensor, conv_num_outputs, conv_ksize, conv_strides, pool_ksize, pool_strides)\n",
    "    #   all inputs apart from conv_num_outputs and x_tensor are tuples.\n",
    "    #\n",
    "    # Stride of 2 used on first layer to increase performance\n",
    "    convolution_layer = conv2d_maxpool(x, 32, (5, 5), (2, 2), (k, k), (2, 2))\n",
    "    convolution_layer = conv2d_maxpool(convolution_layer,64, (4, 4), (s, s), (k, k), (s, s))\n",
    "    convolution_layer = conv2d_maxpool(convolution_layer, 128, (3, 3), (s, s), (k, k), (s, s))\n",
    "\n",
    "    # TODO: Apply a Flatten Layer\n",
    "    # Function Definition from Above:\n",
    "    #   flatten(x_tensor)\n",
    "    flatten_layer = flatten(convolution_layer)\n",
    "\n",
    "    # TODO: Apply 1, 2, or 3 Fully Connected Layers\n",
    "    #    Play around with different number of outputs\n",
    "    # Function Definition from Above:\n",
    "    #   fully_conn(x_tensor, num_outputs)\n",
    "    fully_connected_layer = fully_conn(flatten_layer, 256)\n",
    "    fully_connected_layer = fully_conn(fully_connected_layer, 64)\n",
    "    # Info on dropout\n",
    "    # https://arxiv.org/ftp/arxiv/papers/1512/1512.00242.pdf\n",
    "    fully_connected_layer = tf.nn.dropout(fully_connected_layer, keep_prob)\n",
    "\n",
    "    # Apply an Output Layer\n",
    "    #\n",
    "    # Function Definition from Above:\n",
    "    #   output(x_tensor, num_outputs)\n",
    "    #\n",
    "    # Note dropout should not be applied to output layer.\n",
    "    output_layer = output(fully_connected_layer, num_outputs)\n",
    "\n",
    "    # return output\n",
    "    return output_layer\n",
    "\n",
    "# Further information on Covnets\n",
    "# http://www.matthewzeiler.com/wp-content/uploads/2017/07/eccv2014.pdf\n",
    "# http://colah.github.io/posts/2014-07-Conv-Nets-Modular/\n",
    "# http://blog.kaggle.com/2015/01/02/cifar-10-competition-winners-interviews-with-dr-ben-graham-phil-culliton-zygmunt-zajac/\n",
    "\n",
    "\"\"\"\n",
    "DON'T MODIFY ANYTHING IN THIS CELL THAT IS BELOW THIS LINE\n",
    "\"\"\"\n",
    "\n",
    "##############################\n",
    "## Build the Neural Network ##\n",
    "##############################\n",
    "\n",
    "# Remove previous weights, bias, inputs, etc..\n",
    "tf.reset_default_graph()\n",
    "\n",
    "# Inputs\n",
    "x = neural_net_image_input((32, 32, 3))\n",
    "y = neural_net_label_input(10)\n",
    "keep_prob = neural_net_keep_prob_input()\n",
    "\n",
    "# Model\n",
    "logits = conv_net(x, keep_prob)\n",
    "\n",
    "# Name logits Tensor, so that is can be loaded from disk after training\n",
    "logits = tf.identity(logits, name='logits')\n",
    "\n",
    "# Loss and Optimizer\n",
    "cost = tf.reduce_mean(tf.nn.softmax_cross_entropy_with_logits(logits=logits, labels=y))\n",
    "optimizer = tf.train.AdamOptimizer().minimize(cost)\n",
    "\n",
    "# Accuracy\n",
    "correct_pred = tf.equal(tf.argmax(logits, 1), tf.argmax(y, 1))\n",
    "accuracy = tf.reduce_mean(tf.cast(correct_pred, tf.float32), name='accuracy')\n",
    "\n",
    "tests.test_conv_net(conv_net)"
   ]
  },
  {
   "cell_type": "markdown",
   "metadata": {},
   "source": [
    "## Train the Neural Network\n",
    "### Single Optimization\n",
    "Implement the function `train_neural_network` to do a single optimization.  The optimization should use `optimizer` to optimize in `session` with a `feed_dict` of the following:\n",
    "* `x` for image input\n",
    "* `y` for labels\n",
    "* `keep_prob` for keep probability for dropout\n",
    "\n",
    "This function will be called for each batch, so `tf.global_variables_initializer()` has already been called.\n",
    "\n",
    "Note: Nothing needs to be returned. This function is only optimizing the neural network."
   ]
  },
  {
   "cell_type": "code",
   "execution_count": 9,
   "metadata": {},
   "outputs": [
    {
     "name": "stdout",
     "output_type": "stream",
     "text": [
      "Tests Passed\n"
     ]
    }
   ],
   "source": [
    "def train_neural_network(session, optimizer, keep_probability, feature_batch, label_batch):\n",
    "    \"\"\"\n",
    "    Optimize the session on a batch of images and labels\n",
    "    : session: Current TensorFlow session\n",
    "    : optimizer: TensorFlow optimizer function\n",
    "    : keep_probability: keep probability\n",
    "    : feature_batch: Batch of Numpy image data\n",
    "    : label_batch: Batch of Numpy label data\n",
    "    \"\"\"\n",
    "    session.run(\n",
    "                optimizer,\n",
    "                feed_dict={\n",
    "                           x : feature_batch,  # Key name based on tensorflow placeholder above\n",
    "                           y : label_batch,\n",
    "                           keep_prob : keep_probability\n",
    "                           }\n",
    "                )\n",
    "\n",
    "\"\"\"\n",
    "Unit test\n",
    "\"\"\"\n",
    "tests.test_train_nn(train_neural_network)"
   ]
  },
  {
   "cell_type": "markdown",
   "metadata": {},
   "source": [
    "### Show Stats\n",
    "Implement the function `print_stats` to print loss and validation accuracy.  Use the global variables `valid_features` and `valid_labels` to calculate validation accuracy.  Use a keep probability of `1.0` to calculate the loss and validation accuracy."
   ]
  },
  {
   "cell_type": "code",
   "execution_count": 17,
   "metadata": {},
   "outputs": [],
   "source": [
    "def print_stats(session, feature_batch, label_batch, cost, accuracy):\n",
    "    \"\"\"\n",
    "    Print information about loss and validation accuracy\n",
    "    : session: Current TensorFlow session\n",
    "    : feature_batch: Batch of Numpy image data\n",
    "    : label_batch: Batch of Numpy label data\n",
    "    : cost: TensorFlow cost function\n",
    "    : accuracy: TensorFlow accuracy function\n",
    "    \"\"\"\n",
    "    # Where cost is a predefined function, see convolution model cell.\n",
    "    #\n",
    "    # You need to initialize all the placeholders to run the session,\n",
    "    # keep_prob needs to be set to 1\n",
    "    loss = cost.eval(feed_dict={x : feature_batch, y : label_batch, keep_prob : 1})\n",
    "    \n",
    "    # Where accuracy is a predefined function, see convolution model cell.\n",
    "    train_acc = accuracy.eval(feed_dict={x : feature_batch, y : label_batch, keep_prob : 1})\n",
    "\n",
    "    # Where accuracy is a predefined function, see convolution model cell.\n",
    "    #\n",
    "    # Global variables are used for validation.\n",
    "    val_acc = accuracy.eval(feed_dict={x : valid_features, y : valid_labels, keep_prob : 1})\n",
    "    \n",
    "    # Used to get ideas on how to reformat floating points\n",
    "    # https://stackoverflow.com/questions/8885663/how-to-format-a-floating-number-to-fixed-width-in-python\n",
    "    print (\"Loss: {:6.3f}, Validation Acc.: {:4.3f}, Train-Val Acc.: {:4.3f}\".format(\n",
    "                                                                                     loss, \n",
    "                                                                                     val_acc, \n",
    "                                                                                     (train_acc-val_acc)\n",
    "                                                                                    )\n",
    "          )"
   ]
  },
  {
   "cell_type": "markdown",
   "metadata": {},
   "source": [
    "### Hyperparameters\n",
    "Tune the following parameters:\n",
    "* Set `epochs` to the number of iterations until the network stops learning or start overfitting\n",
    "* Set `batch_size` to the highest number that your machine has memory for.  Most people set them to common sizes of memory:\n",
    " * 64\n",
    " * 128\n",
    " * 256\n",
    " * ...\n",
    "* Set `keep_probability` to the probability of keeping a node using dropout\n",
    "\n",
    "Standard deviation truncated normal distribution for weights has a large impact on initial performance"
   ]
  },
  {
   "cell_type": "code",
   "execution_count": 21,
   "metadata": {
    "collapsed": true
   },
   "outputs": [],
   "source": [
    "# TODO: Tune Parameters\n",
    "epochs = 50\n",
    "batch_size = 512\n",
    "keep_probability = 0.5"
   ]
  },
  {
   "cell_type": "markdown",
   "metadata": {},
   "source": [
    "### Train on a Single CIFAR-10 Batch\n",
    "Instead of training the neural network on all the CIFAR-10 batches of data, let's use a single batch. This should save time while you iterate on the model to get a better accuracy.  Once the final validation accuracy is 50% or greater, run the model on all the data in the next section."
   ]
  },
  {
   "cell_type": "code",
   "execution_count": 19,
   "metadata": {},
   "outputs": [
    {
     "name": "stdout",
     "output_type": "stream",
     "text": [
      "Checking the Training on a Single Batch...\n",
      "Epoch  1, CIFAR-10 Batch 1:  Loss:  2.296, Validation Acc.: 0.094, Train-Val Acc.: 0.014\n"
     ]
    }
   ],
   "source": [
    "\"\"\"\n",
    "DON'T MODIFY ANYTHING IN THIS CELL\n",
    "\"\"\"\n",
    "print('Checking the Training on a Single Batch...')\n",
    "with tf.Session() as sess:\n",
    "    # Initializing the variables\n",
    "    sess.run(tf.global_variables_initializer())\n",
    "    \n",
    "    # Training cycle\n",
    "    for epoch in range(epochs):\n",
    "        batch_i = 1\n",
    "        for batch_features, batch_labels in helper.load_preprocess_training_batch(batch_i, batch_size):\n",
    "            train_neural_network(sess, optimizer, keep_probability, batch_features, batch_labels)\n",
    "        print('Epoch {:>2}, CIFAR-10 Batch {}:  '.format(epoch + 1, batch_i), end='')\n",
    "        print_stats(sess, batch_features, batch_labels, cost, accuracy)"
   ]
  },
  {
   "cell_type": "markdown",
   "metadata": {},
   "source": [
    "### Fully Train the Model\n",
    "Now that you got a good accuracy with a single CIFAR-10 batch, try it with all five batches."
   ]
  },
  {
   "cell_type": "code",
   "execution_count": 22,
   "metadata": {},
   "outputs": [
    {
     "name": "stdout",
     "output_type": "stream",
     "text": [
      "Training...\n",
      "Epoch  1, CIFAR-10 Batch 1:  Loss:  2.278, Validation Acc.: 0.107, Train-Val Acc.: 0.004\n",
      "Epoch  1, CIFAR-10 Batch 2:  Loss:  2.111, Validation Acc.: 0.164, Train-Val Acc.: 0.046\n",
      "Epoch  1, CIFAR-10 Batch 3:  Loss:  2.069, Validation Acc.: 0.197, Train-Val Acc.: -0.025\n",
      "Epoch  1, CIFAR-10 Batch 4:  Loss:  1.996, Validation Acc.: 0.243, Train-Val Acc.: 0.007\n",
      "Epoch  1, CIFAR-10 Batch 5:  Loss:  1.973, Validation Acc.: 0.246, Train-Val Acc.: -0.009\n",
      "Epoch  2, CIFAR-10 Batch 1:  Loss:  1.992, Validation Acc.: 0.259, Train-Val Acc.: -0.020\n",
      "Epoch  2, CIFAR-10 Batch 2:  Loss:  1.903, Validation Acc.: 0.261, Train-Val Acc.: 0.003\n",
      "Epoch  2, CIFAR-10 Batch 3:  Loss:  1.830, Validation Acc.: 0.270, Train-Val Acc.: 0.014\n",
      "Epoch  2, CIFAR-10 Batch 4:  Loss:  1.815, Validation Acc.: 0.285, Train-Val Acc.: 0.015\n",
      "Epoch  2, CIFAR-10 Batch 5:  Loss:  1.863, Validation Acc.: 0.302, Train-Val Acc.: 0.005\n",
      "Epoch  3, CIFAR-10 Batch 1:  Loss:  1.971, Validation Acc.: 0.297, Train-Val Acc.: -0.030\n",
      "Epoch  3, CIFAR-10 Batch 2:  Loss:  1.816, Validation Acc.: 0.318, Train-Val Acc.: -0.031\n",
      "Epoch  3, CIFAR-10 Batch 3:  Loss:  1.654, Validation Acc.: 0.322, Train-Val Acc.: 0.066\n",
      "Epoch  3, CIFAR-10 Batch 4:  Loss:  1.673, Validation Acc.: 0.340, Train-Val Acc.: 0.018\n",
      "Epoch  3, CIFAR-10 Batch 5:  Loss:  1.740, Validation Acc.: 0.349, Train-Val Acc.: 0.016\n",
      "Epoch  4, CIFAR-10 Batch 1:  Loss:  1.795, Validation Acc.: 0.359, Train-Val Acc.: -0.031\n",
      "Epoch  4, CIFAR-10 Batch 2:  Loss:  1.729, Validation Acc.: 0.351, Train-Val Acc.: 0.041\n",
      "Epoch  4, CIFAR-10 Batch 3:  Loss:  1.587, Validation Acc.: 0.359, Train-Val Acc.: 0.037\n",
      "Epoch  4, CIFAR-10 Batch 4:  Loss:  1.572, Validation Acc.: 0.375, Train-Val Acc.: 0.027\n",
      "Epoch  4, CIFAR-10 Batch 5:  Loss:  1.648, Validation Acc.: 0.385, Train-Val Acc.: 0.010\n",
      "Epoch  5, CIFAR-10 Batch 1:  Loss:  1.688, Validation Acc.: 0.390, Train-Val Acc.: -0.008\n",
      "Epoch  5, CIFAR-10 Batch 2:  Loss:  1.609, Validation Acc.: 0.387, Train-Val Acc.: 0.039\n",
      "Epoch  5, CIFAR-10 Batch 3:  Loss:  1.468, Validation Acc.: 0.401, Train-Val Acc.: 0.069\n",
      "Epoch  5, CIFAR-10 Batch 4:  Loss:  1.481, Validation Acc.: 0.409, Train-Val Acc.: 0.037\n",
      "Epoch  5, CIFAR-10 Batch 5:  Loss:  1.532, Validation Acc.: 0.426, Train-Val Acc.: 0.017\n",
      "Epoch  6, CIFAR-10 Batch 1:  Loss:  1.581, Validation Acc.: 0.413, Train-Val Acc.: 0.053\n",
      "Epoch  6, CIFAR-10 Batch 2:  Loss:  1.498, Validation Acc.: 0.430, Train-Val Acc.: 0.013\n",
      "Epoch  6, CIFAR-10 Batch 3:  Loss:  1.362, Validation Acc.: 0.434, Train-Val Acc.: 0.059\n",
      "Epoch  6, CIFAR-10 Batch 4:  Loss:  1.392, Validation Acc.: 0.440, Train-Val Acc.: 0.063\n",
      "Epoch  6, CIFAR-10 Batch 5:  Loss:  1.485, Validation Acc.: 0.429, Train-Val Acc.: 0.020\n",
      "Epoch  7, CIFAR-10 Batch 1:  Loss:  1.498, Validation Acc.: 0.451, Train-Val Acc.: -0.002\n",
      "Epoch  7, CIFAR-10 Batch 2:  Loss:  1.442, Validation Acc.: 0.453, Train-Val Acc.: 0.016\n",
      "Epoch  7, CIFAR-10 Batch 3:  Loss:  1.279, Validation Acc.: 0.459, Train-Val Acc.: 0.058\n",
      "Epoch  7, CIFAR-10 Batch 4:  Loss:  1.312, Validation Acc.: 0.471, Train-Val Acc.: 0.052\n",
      "Epoch  7, CIFAR-10 Batch 5:  Loss:  1.432, Validation Acc.: 0.468, Train-Val Acc.: 0.005\n",
      "Epoch  8, CIFAR-10 Batch 1:  Loss:  1.418, Validation Acc.: 0.474, Train-Val Acc.: 0.023\n",
      "Epoch  8, CIFAR-10 Batch 2:  Loss:  1.414, Validation Acc.: 0.475, Train-Val Acc.: 0.028\n",
      "Epoch  8, CIFAR-10 Batch 3:  Loss:  1.267, Validation Acc.: 0.469, Train-Val Acc.: 0.048\n",
      "Epoch  8, CIFAR-10 Batch 4:  Loss:  1.296, Validation Acc.: 0.470, Train-Val Acc.: 0.050\n",
      "Epoch  8, CIFAR-10 Batch 5:  Loss:  1.368, Validation Acc.: 0.487, Train-Val Acc.: 0.020\n",
      "Epoch  9, CIFAR-10 Batch 1:  Loss:  1.365, Validation Acc.: 0.492, Train-Val Acc.: 0.008\n",
      "Epoch  9, CIFAR-10 Batch 2:  Loss:  1.316, Validation Acc.: 0.491, Train-Val Acc.: 0.016\n",
      "Epoch  9, CIFAR-10 Batch 3:  Loss:  1.197, Validation Acc.: 0.494, Train-Val Acc.: 0.043\n",
      "Epoch  9, CIFAR-10 Batch 4:  Loss:  1.197, Validation Acc.: 0.504, Train-Val Acc.: 0.057\n",
      "Epoch  9, CIFAR-10 Batch 5:  Loss:  1.317, Validation Acc.: 0.503, Train-Val Acc.: 0.027\n",
      "Epoch 10, CIFAR-10 Batch 1:  Loss:  1.300, Validation Acc.: 0.516, Train-Val Acc.: 0.052\n",
      "Epoch 10, CIFAR-10 Batch 2:  Loss:  1.268, Validation Acc.: 0.503, Train-Val Acc.: 0.048\n",
      "Epoch 10, CIFAR-10 Batch 3:  Loss:  1.137, Validation Acc.: 0.515, Train-Val Acc.: 0.072\n",
      "Epoch 10, CIFAR-10 Batch 4:  Loss:  1.130, Validation Acc.: 0.521, Train-Val Acc.: 0.060\n",
      "Epoch 10, CIFAR-10 Batch 5:  Loss:  1.238, Validation Acc.: 0.526, Train-Val Acc.: 0.031\n",
      "Epoch 11, CIFAR-10 Batch 1:  Loss:  1.247, Validation Acc.: 0.524, Train-Val Acc.: 0.051\n",
      "Epoch 11, CIFAR-10 Batch 2:  Loss:  1.256, Validation Acc.: 0.504, Train-Val Acc.: 0.040\n",
      "Epoch 11, CIFAR-10 Batch 3:  Loss:  1.098, Validation Acc.: 0.535, Train-Val Acc.: 0.063\n",
      "Epoch 11, CIFAR-10 Batch 4:  Loss:  1.102, Validation Acc.: 0.532, Train-Val Acc.: 0.049\n",
      "Epoch 11, CIFAR-10 Batch 5:  Loss:  1.235, Validation Acc.: 0.524, Train-Val Acc.: 0.051\n",
      "Epoch 12, CIFAR-10 Batch 1:  Loss:  1.225, Validation Acc.: 0.535, Train-Val Acc.: 0.043\n",
      "Epoch 12, CIFAR-10 Batch 2:  Loss:  1.181, Validation Acc.: 0.521, Train-Val Acc.: 0.030\n",
      "Epoch 12, CIFAR-10 Batch 3:  Loss:  1.109, Validation Acc.: 0.528, Train-Val Acc.: 0.050\n",
      "Epoch 12, CIFAR-10 Batch 4:  Loss:  1.038, Validation Acc.: 0.540, Train-Val Acc.: 0.065\n",
      "Epoch 12, CIFAR-10 Batch 5:  Loss:  1.153, Validation Acc.: 0.545, Train-Val Acc.: 0.043\n",
      "Epoch 13, CIFAR-10 Batch 1:  Loss:  1.161, Validation Acc.: 0.556, Train-Val Acc.: 0.046\n",
      "Epoch 13, CIFAR-10 Batch 2:  Loss:  1.128, Validation Acc.: 0.549, Train-Val Acc.: 0.029\n",
      "Epoch 13, CIFAR-10 Batch 3:  Loss:  1.029, Validation Acc.: 0.547, Train-Val Acc.: 0.051\n",
      "Epoch 13, CIFAR-10 Batch 4:  Loss:  1.003, Validation Acc.: 0.559, Train-Val Acc.: 0.059\n",
      "Epoch 13, CIFAR-10 Batch 5:  Loss:  1.098, Validation Acc.: 0.565, Train-Val Acc.: 0.057\n",
      "Epoch 14, CIFAR-10 Batch 1:  Loss:  1.140, Validation Acc.: 0.564, Train-Val Acc.: 0.041\n",
      "Epoch 14, CIFAR-10 Batch 2:  Loss:  1.123, Validation Acc.: 0.551, Train-Val Acc.: 0.037\n",
      "Epoch 14, CIFAR-10 Batch 3:  Loss:  0.978, Validation Acc.: 0.577, Train-Val Acc.: 0.055\n",
      "Epoch 14, CIFAR-10 Batch 4:  Loss:  0.958, Validation Acc.: 0.568, Train-Val Acc.: 0.074\n",
      "Epoch 14, CIFAR-10 Batch 5:  Loss:  1.064, Validation Acc.: 0.574, Train-Val Acc.: 0.038\n",
      "Epoch 15, CIFAR-10 Batch 1:  Loss:  1.093, Validation Acc.: 0.575, Train-Val Acc.: 0.047\n",
      "Epoch 15, CIFAR-10 Batch 2:  Loss:  1.076, Validation Acc.: 0.559, Train-Val Acc.: 0.036\n",
      "Epoch 15, CIFAR-10 Batch 3:  Loss:  0.940, Validation Acc.: 0.586, Train-Val Acc.: 0.062\n",
      "Epoch 15, CIFAR-10 Batch 4:  Loss:  0.923, Validation Acc.: 0.580, Train-Val Acc.: 0.105\n",
      "Epoch 15, CIFAR-10 Batch 5:  Loss:  1.027, Validation Acc.: 0.579, Train-Val Acc.: 0.035\n",
      "Epoch 16, CIFAR-10 Batch 1:  Loss:  1.057, Validation Acc.: 0.575, Train-Val Acc.: 0.057\n",
      "Epoch 16, CIFAR-10 Batch 2:  Loss:  1.033, Validation Acc.: 0.594, Train-Val Acc.: 0.020\n",
      "Epoch 16, CIFAR-10 Batch 3:  Loss:  0.897, Validation Acc.: 0.594, Train-Val Acc.: 0.078\n",
      "Epoch 16, CIFAR-10 Batch 4:  Loss:  0.866, Validation Acc.: 0.595, Train-Val Acc.: 0.074\n",
      "Epoch 16, CIFAR-10 Batch 5:  Loss:  1.011, Validation Acc.: 0.589, Train-Val Acc.: 0.052\n",
      "Epoch 17, CIFAR-10 Batch 1:  Loss:  1.064, Validation Acc.: 0.581, Train-Val Acc.: 0.034\n",
      "Epoch 17, CIFAR-10 Batch 2:  Loss:  0.999, Validation Acc.: 0.587, Train-Val Acc.: 0.061\n",
      "Epoch 17, CIFAR-10 Batch 3:  Loss:  0.851, Validation Acc.: 0.592, Train-Val Acc.: 0.117\n",
      "Epoch 17, CIFAR-10 Batch 4:  Loss:  0.838, Validation Acc.: 0.599, Train-Val Acc.: 0.084\n",
      "Epoch 17, CIFAR-10 Batch 5:  Loss:  0.952, Validation Acc.: 0.598, Train-Val Acc.: 0.061\n",
      "Epoch 18, CIFAR-10 Batch 1:  Loss:  0.990, Validation Acc.: 0.604, Train-Val Acc.: 0.014\n",
      "Epoch 18, CIFAR-10 Batch 2:  Loss:  0.971, Validation Acc.: 0.594, Train-Val Acc.: 0.068\n",
      "Epoch 18, CIFAR-10 Batch 3:  Loss:  0.825, Validation Acc.: 0.601, Train-Val Acc.: 0.105\n",
      "Epoch 18, CIFAR-10 Batch 4:  Loss:  0.802, Validation Acc.: 0.610, Train-Val Acc.: 0.086\n",
      "Epoch 18, CIFAR-10 Batch 5:  Loss:  0.946, Validation Acc.: 0.602, Train-Val Acc.: 0.036\n",
      "Epoch 19, CIFAR-10 Batch 1:  Loss:  0.959, Validation Acc.: 0.598, Train-Val Acc.: 0.054\n",
      "Epoch 19, CIFAR-10 Batch 2:  Loss:  0.959, Validation Acc.: 0.603, Train-Val Acc.: 0.053\n"
     ]
    },
    {
     "name": "stdout",
     "output_type": "stream",
     "text": [
      "Epoch 19, CIFAR-10 Batch 3:  Loss:  0.816, Validation Acc.: 0.609, Train-Val Acc.: 0.094\n",
      "Epoch 19, CIFAR-10 Batch 4:  Loss:  0.799, Validation Acc.: 0.615, Train-Val Acc.: 0.067\n",
      "Epoch 19, CIFAR-10 Batch 5:  Loss:  0.923, Validation Acc.: 0.604, Train-Val Acc.: 0.044\n",
      "Epoch 20, CIFAR-10 Batch 1:  Loss:  0.940, Validation Acc.: 0.609, Train-Val Acc.: 0.057\n",
      "Epoch 20, CIFAR-10 Batch 2:  Loss:  0.886, Validation Acc.: 0.617, Train-Val Acc.: 0.082\n",
      "Epoch 20, CIFAR-10 Batch 3:  Loss:  0.788, Validation Acc.: 0.607, Train-Val Acc.: 0.109\n",
      "Epoch 20, CIFAR-10 Batch 4:  Loss:  0.779, Validation Acc.: 0.622, Train-Val Acc.: 0.081\n",
      "Epoch 20, CIFAR-10 Batch 5:  Loss:  0.879, Validation Acc.: 0.614, Train-Val Acc.: 0.055\n",
      "Epoch 21, CIFAR-10 Batch 1:  Loss:  0.897, Validation Acc.: 0.621, Train-Val Acc.: 0.054\n",
      "Epoch 21, CIFAR-10 Batch 2:  Loss:  0.874, Validation Acc.: 0.613, Train-Val Acc.: 0.069\n",
      "Epoch 21, CIFAR-10 Batch 3:  Loss:  0.753, Validation Acc.: 0.613, Train-Val Acc.: 0.133\n",
      "Epoch 21, CIFAR-10 Batch 4:  Loss:  0.745, Validation Acc.: 0.620, Train-Val Acc.: 0.103\n",
      "Epoch 21, CIFAR-10 Batch 5:  Loss:  0.801, Validation Acc.: 0.623, Train-Val Acc.: 0.073\n",
      "Epoch 22, CIFAR-10 Batch 1:  Loss:  0.873, Validation Acc.: 0.636, Train-Val Acc.: 0.043\n",
      "Epoch 22, CIFAR-10 Batch 2:  Loss:  0.864, Validation Acc.: 0.615, Train-Val Acc.: 0.064\n",
      "Epoch 22, CIFAR-10 Batch 3:  Loss:  0.742, Validation Acc.: 0.607, Train-Val Acc.: 0.130\n",
      "Epoch 22, CIFAR-10 Batch 4:  Loss:  0.733, Validation Acc.: 0.626, Train-Val Acc.: 0.103\n",
      "Epoch 22, CIFAR-10 Batch 5:  Loss:  0.803, Validation Acc.: 0.613, Train-Val Acc.: 0.056\n",
      "Epoch 23, CIFAR-10 Batch 1:  Loss:  0.852, Validation Acc.: 0.621, Train-Val Acc.: 0.092\n",
      "Epoch 23, CIFAR-10 Batch 2:  Loss:  0.809, Validation Acc.: 0.632, Train-Val Acc.: 0.070\n",
      "Epoch 23, CIFAR-10 Batch 3:  Loss:  0.684, Validation Acc.: 0.628, Train-Val Acc.: 0.115\n",
      "Epoch 23, CIFAR-10 Batch 4:  Loss:  0.692, Validation Acc.: 0.639, Train-Val Acc.: 0.094\n",
      "Epoch 23, CIFAR-10 Batch 5:  Loss:  0.732, Validation Acc.: 0.627, Train-Val Acc.: 0.096\n",
      "Epoch 24, CIFAR-10 Batch 1:  Loss:  0.785, Validation Acc.: 0.640, Train-Val Acc.: 0.062\n",
      "Epoch 24, CIFAR-10 Batch 2:  Loss:  0.755, Validation Acc.: 0.631, Train-Val Acc.: 0.095\n",
      "Epoch 24, CIFAR-10 Batch 3:  Loss:  0.715, Validation Acc.: 0.621, Train-Val Acc.: 0.095\n",
      "Epoch 24, CIFAR-10 Batch 4:  Loss:  0.675, Validation Acc.: 0.642, Train-Val Acc.: 0.108\n",
      "Epoch 24, CIFAR-10 Batch 5:  Loss:  0.688, Validation Acc.: 0.639, Train-Val Acc.: 0.081\n",
      "Epoch 25, CIFAR-10 Batch 1:  Loss:  0.753, Validation Acc.: 0.648, Train-Val Acc.: 0.078\n",
      "Epoch 25, CIFAR-10 Batch 2:  Loss:  0.709, Validation Acc.: 0.645, Train-Val Acc.: 0.109\n",
      "Epoch 25, CIFAR-10 Batch 3:  Loss:  0.639, Validation Acc.: 0.646, Train-Val Acc.: 0.137\n",
      "Epoch 25, CIFAR-10 Batch 4:  Loss:  0.668, Validation Acc.: 0.638, Train-Val Acc.: 0.105\n",
      "Epoch 25, CIFAR-10 Batch 5:  Loss:  0.664, Validation Acc.: 0.645, Train-Val Acc.: 0.092\n",
      "Epoch 26, CIFAR-10 Batch 1:  Loss:  0.740, Validation Acc.: 0.636, Train-Val Acc.: 0.114\n",
      "Epoch 26, CIFAR-10 Batch 2:  Loss:  0.704, Validation Acc.: 0.638, Train-Val Acc.: 0.116\n",
      "Epoch 26, CIFAR-10 Batch 3:  Loss:  0.658, Validation Acc.: 0.647, Train-Val Acc.: 0.106\n",
      "Epoch 26, CIFAR-10 Batch 4:  Loss:  0.652, Validation Acc.: 0.642, Train-Val Acc.: 0.125\n",
      "Epoch 26, CIFAR-10 Batch 5:  Loss:  0.663, Validation Acc.: 0.639, Train-Val Acc.: 0.077\n",
      "Epoch 27, CIFAR-10 Batch 1:  Loss:  0.708, Validation Acc.: 0.638, Train-Val Acc.: 0.119\n",
      "Epoch 27, CIFAR-10 Batch 2:  Loss:  0.658, Validation Acc.: 0.641, Train-Val Acc.: 0.136\n",
      "Epoch 27, CIFAR-10 Batch 3:  Loss:  0.628, Validation Acc.: 0.659, Train-Val Acc.: 0.115\n",
      "Epoch 27, CIFAR-10 Batch 4:  Loss:  0.642, Validation Acc.: 0.642, Train-Val Acc.: 0.125\n",
      "Epoch 27, CIFAR-10 Batch 5:  Loss:  0.622, Validation Acc.: 0.645, Train-Val Acc.: 0.132\n",
      "Epoch 28, CIFAR-10 Batch 1:  Loss:  0.697, Validation Acc.: 0.645, Train-Val Acc.: 0.112\n",
      "Epoch 28, CIFAR-10 Batch 2:  Loss:  0.708, Validation Acc.: 0.645, Train-Val Acc.: 0.112\n",
      "Epoch 28, CIFAR-10 Batch 3:  Loss:  0.601, Validation Acc.: 0.654, Train-Val Acc.: 0.127\n",
      "Epoch 28, CIFAR-10 Batch 4:  Loss:  0.541, Validation Acc.: 0.662, Train-Val Acc.: 0.139\n",
      "Epoch 28, CIFAR-10 Batch 5:  Loss:  0.576, Validation Acc.: 0.661, Train-Val Acc.: 0.122\n",
      "Epoch 29, CIFAR-10 Batch 1:  Loss:  0.668, Validation Acc.: 0.659, Train-Val Acc.: 0.102\n",
      "Epoch 29, CIFAR-10 Batch 2:  Loss:  0.642, Validation Acc.: 0.642, Train-Val Acc.: 0.125\n",
      "Epoch 29, CIFAR-10 Batch 3:  Loss:  0.573, Validation Acc.: 0.648, Train-Val Acc.: 0.143\n",
      "Epoch 29, CIFAR-10 Batch 4:  Loss:  0.566, Validation Acc.: 0.654, Train-Val Acc.: 0.170\n",
      "Epoch 29, CIFAR-10 Batch 5:  Loss:  0.589, Validation Acc.: 0.649, Train-Val Acc.: 0.138\n",
      "Epoch 30, CIFAR-10 Batch 1:  Loss:  0.628, Validation Acc.: 0.665, Train-Val Acc.: 0.119\n",
      "Epoch 30, CIFAR-10 Batch 2:  Loss:  0.612, Validation Acc.: 0.660, Train-Val Acc.: 0.110\n",
      "Epoch 30, CIFAR-10 Batch 3:  Loss:  0.554, Validation Acc.: 0.653, Train-Val Acc.: 0.147\n",
      "Epoch 30, CIFAR-10 Batch 4:  Loss:  0.535, Validation Acc.: 0.656, Train-Val Acc.: 0.155\n",
      "Epoch 30, CIFAR-10 Batch 5:  Loss:  0.526, Validation Acc.: 0.663, Train-Val Acc.: 0.148\n",
      "Epoch 31, CIFAR-10 Batch 1:  Loss:  0.594, Validation Acc.: 0.669, Train-Val Acc.: 0.125\n",
      "Epoch 31, CIFAR-10 Batch 2:  Loss:  0.601, Validation Acc.: 0.659, Train-Val Acc.: 0.128\n",
      "Epoch 31, CIFAR-10 Batch 3:  Loss:  0.546, Validation Acc.: 0.656, Train-Val Acc.: 0.131\n",
      "Epoch 31, CIFAR-10 Batch 4:  Loss:  0.568, Validation Acc.: 0.651, Train-Val Acc.: 0.136\n",
      "Epoch 31, CIFAR-10 Batch 5:  Loss:  0.565, Validation Acc.: 0.655, Train-Val Acc.: 0.139\n",
      "Epoch 32, CIFAR-10 Batch 1:  Loss:  0.540, Validation Acc.: 0.666, Train-Val Acc.: 0.145\n",
      "Epoch 32, CIFAR-10 Batch 2:  Loss:  0.616, Validation Acc.: 0.650, Train-Val Acc.: 0.110\n",
      "Epoch 32, CIFAR-10 Batch 3:  Loss:  0.526, Validation Acc.: 0.669, Train-Val Acc.: 0.142\n",
      "Epoch 32, CIFAR-10 Batch 4:  Loss:  0.515, Validation Acc.: 0.665, Train-Val Acc.: 0.160\n",
      "Epoch 32, CIFAR-10 Batch 5:  Loss:  0.518, Validation Acc.: 0.665, Train-Val Acc.: 0.146\n",
      "Epoch 33, CIFAR-10 Batch 1:  Loss:  0.547, Validation Acc.: 0.663, Train-Val Acc.: 0.144\n",
      "Epoch 33, CIFAR-10 Batch 2:  Loss:  0.553, Validation Acc.: 0.666, Train-Val Acc.: 0.148\n",
      "Epoch 33, CIFAR-10 Batch 3:  Loss:  0.565, Validation Acc.: 0.667, Train-Val Acc.: 0.134\n",
      "Epoch 33, CIFAR-10 Batch 4:  Loss:  0.505, Validation Acc.: 0.667, Train-Val Acc.: 0.154\n",
      "Epoch 33, CIFAR-10 Batch 5:  Loss:  0.459, Validation Acc.: 0.667, Train-Val Acc.: 0.168\n",
      "Epoch 34, CIFAR-10 Batch 1:  Loss:  0.568, Validation Acc.: 0.656, Train-Val Acc.: 0.134\n",
      "Epoch 34, CIFAR-10 Batch 2:  Loss:  0.542, Validation Acc.: 0.671, Train-Val Acc.: 0.123\n",
      "Epoch 34, CIFAR-10 Batch 3:  Loss:  0.517, Validation Acc.: 0.674, Train-Val Acc.: 0.167\n",
      "Epoch 34, CIFAR-10 Batch 4:  Loss:  0.479, Validation Acc.: 0.664, Train-Val Acc.: 0.157\n",
      "Epoch 34, CIFAR-10 Batch 5:  Loss:  0.456, Validation Acc.: 0.663, Train-Val Acc.: 0.185\n",
      "Epoch 35, CIFAR-10 Batch 1:  Loss:  0.522, Validation Acc.: 0.660, Train-Val Acc.: 0.141\n",
      "Epoch 35, CIFAR-10 Batch 2:  Loss:  0.577, Validation Acc.: 0.657, Train-Val Acc.: 0.120\n",
      "Epoch 35, CIFAR-10 Batch 3:  Loss:  0.528, Validation Acc.: 0.664, Train-Val Acc.: 0.147\n",
      "Epoch 35, CIFAR-10 Batch 4:  Loss:  0.454, Validation Acc.: 0.669, Train-Val Acc.: 0.169\n",
      "Epoch 35, CIFAR-10 Batch 5:  Loss:  0.421, Validation Acc.: 0.667, Train-Val Acc.: 0.170\n",
      "Epoch 36, CIFAR-10 Batch 1:  Loss:  0.511, Validation Acc.: 0.655, Train-Val Acc.: 0.139\n",
      "Epoch 36, CIFAR-10 Batch 2:  Loss:  0.541, Validation Acc.: 0.669, Train-Val Acc.: 0.138\n",
      "Epoch 36, CIFAR-10 Batch 3:  Loss:  0.440, Validation Acc.: 0.678, Train-Val Acc.: 0.160\n",
      "Epoch 36, CIFAR-10 Batch 4:  Loss:  0.417, Validation Acc.: 0.673, Train-Val Acc.: 0.171\n",
      "Epoch 36, CIFAR-10 Batch 5:  Loss:  0.396, Validation Acc.: 0.663, Train-Val Acc.: 0.192\n",
      "Epoch 37, CIFAR-10 Batch 1:  Loss:  0.497, Validation Acc.: 0.650, Train-Val Acc.: 0.175\n",
      "Epoch 37, CIFAR-10 Batch 2:  Loss:  0.493, Validation Acc.: 0.678, Train-Val Acc.: 0.133\n",
      "Epoch 37, CIFAR-10 Batch 3:  Loss:  0.418, Validation Acc.: 0.682, Train-Val Acc.: 0.159\n",
      "Epoch 37, CIFAR-10 Batch 4:  Loss:  0.382, Validation Acc.: 0.677, Train-Val Acc.: 0.171\n"
     ]
    },
    {
     "name": "stdout",
     "output_type": "stream",
     "text": [
      "Epoch 37, CIFAR-10 Batch 5:  Loss:  0.376, Validation Acc.: 0.662, Train-Val Acc.: 0.213\n",
      "Epoch 38, CIFAR-10 Batch 1:  Loss:  0.435, Validation Acc.: 0.662, Train-Val Acc.: 0.183\n",
      "Epoch 38, CIFAR-10 Batch 2:  Loss:  0.429, Validation Acc.: 0.686, Train-Val Acc.: 0.193\n",
      "Epoch 38, CIFAR-10 Batch 3:  Loss:  0.399, Validation Acc.: 0.679, Train-Val Acc.: 0.179\n",
      "Epoch 38, CIFAR-10 Batch 4:  Loss:  0.352, Validation Acc.: 0.680, Train-Val Acc.: 0.202\n",
      "Epoch 38, CIFAR-10 Batch 5:  Loss:  0.370, Validation Acc.: 0.661, Train-Val Acc.: 0.204\n",
      "Epoch 39, CIFAR-10 Batch 1:  Loss:  0.423, Validation Acc.: 0.661, Train-Val Acc.: 0.180\n",
      "Epoch 39, CIFAR-10 Batch 2:  Loss:  0.433, Validation Acc.: 0.667, Train-Val Acc.: 0.198\n",
      "Epoch 39, CIFAR-10 Batch 3:  Loss:  0.409, Validation Acc.: 0.677, Train-Val Acc.: 0.178\n",
      "Epoch 39, CIFAR-10 Batch 4:  Loss:  0.375, Validation Acc.: 0.677, Train-Val Acc.: 0.195\n",
      "Epoch 39, CIFAR-10 Batch 5:  Loss:  0.369, Validation Acc.: 0.646, Train-Val Acc.: 0.213\n",
      "Epoch 40, CIFAR-10 Batch 1:  Loss:  0.434, Validation Acc.: 0.662, Train-Val Acc.: 0.179\n",
      "Epoch 40, CIFAR-10 Batch 2:  Loss:  0.410, Validation Acc.: 0.675, Train-Val Acc.: 0.187\n",
      "Epoch 40, CIFAR-10 Batch 3:  Loss:  0.362, Validation Acc.: 0.684, Train-Val Acc.: 0.181\n",
      "Epoch 40, CIFAR-10 Batch 4:  Loss:  0.351, Validation Acc.: 0.678, Train-Val Acc.: 0.231\n",
      "Epoch 40, CIFAR-10 Batch 5:  Loss:  0.307, Validation Acc.: 0.671, Train-Val Acc.: 0.221\n",
      "Epoch 41, CIFAR-10 Batch 1:  Loss:  0.391, Validation Acc.: 0.678, Train-Val Acc.: 0.174\n",
      "Epoch 41, CIFAR-10 Batch 2:  Loss:  0.412, Validation Acc.: 0.673, Train-Val Acc.: 0.188\n",
      "Epoch 41, CIFAR-10 Batch 3:  Loss:  0.380, Validation Acc.: 0.674, Train-Val Acc.: 0.208\n",
      "Epoch 41, CIFAR-10 Batch 4:  Loss:  0.323, Validation Acc.: 0.686, Train-Val Acc.: 0.209\n",
      "Epoch 41, CIFAR-10 Batch 5:  Loss:  0.351, Validation Acc.: 0.664, Train-Val Acc.: 0.191\n",
      "Epoch 42, CIFAR-10 Batch 1:  Loss:  0.427, Validation Acc.: 0.673, Train-Val Acc.: 0.158\n",
      "Epoch 42, CIFAR-10 Batch 2:  Loss:  0.369, Validation Acc.: 0.671, Train-Val Acc.: 0.200\n",
      "Epoch 42, CIFAR-10 Batch 3:  Loss:  0.306, Validation Acc.: 0.688, Train-Val Acc.: 0.190\n",
      "Epoch 42, CIFAR-10 Batch 4:  Loss:  0.288, Validation Acc.: 0.690, Train-Val Acc.: 0.212\n",
      "Epoch 42, CIFAR-10 Batch 5:  Loss:  0.308, Validation Acc.: 0.677, Train-Val Acc.: 0.198\n",
      "Epoch 43, CIFAR-10 Batch 1:  Loss:  0.337, Validation Acc.: 0.691, Train-Val Acc.: 0.184\n",
      "Epoch 43, CIFAR-10 Batch 2:  Loss:  0.348, Validation Acc.: 0.677, Train-Val Acc.: 0.211\n",
      "Epoch 43, CIFAR-10 Batch 3:  Loss:  0.297, Validation Acc.: 0.688, Train-Val Acc.: 0.204\n",
      "Epoch 43, CIFAR-10 Batch 4:  Loss:  0.299, Validation Acc.: 0.677, Train-Val Acc.: 0.225\n",
      "Epoch 43, CIFAR-10 Batch 5:  Loss:  0.324, Validation Acc.: 0.675, Train-Val Acc.: 0.207\n",
      "Epoch 44, CIFAR-10 Batch 1:  Loss:  0.318, Validation Acc.: 0.699, Train-Val Acc.: 0.183\n",
      "Epoch 44, CIFAR-10 Batch 2:  Loss:  0.341, Validation Acc.: 0.680, Train-Val Acc.: 0.202\n",
      "Epoch 44, CIFAR-10 Batch 3:  Loss:  0.267, Validation Acc.: 0.687, Train-Val Acc.: 0.225\n",
      "Epoch 44, CIFAR-10 Batch 4:  Loss:  0.264, Validation Acc.: 0.679, Train-Val Acc.: 0.233\n",
      "Epoch 44, CIFAR-10 Batch 5:  Loss:  0.291, Validation Acc.: 0.685, Train-Val Acc.: 0.206\n",
      "Epoch 45, CIFAR-10 Batch 1:  Loss:  0.313, Validation Acc.: 0.683, Train-Val Acc.: 0.209\n",
      "Epoch 45, CIFAR-10 Batch 2:  Loss:  0.283, Validation Acc.: 0.692, Train-Val Acc.: 0.206\n",
      "Epoch 45, CIFAR-10 Batch 3:  Loss:  0.259, Validation Acc.: 0.687, Train-Val Acc.: 0.211\n",
      "Epoch 45, CIFAR-10 Batch 4:  Loss:  0.306, Validation Acc.: 0.668, Train-Val Acc.: 0.231\n",
      "Epoch 45, CIFAR-10 Batch 5:  Loss:  0.315, Validation Acc.: 0.681, Train-Val Acc.: 0.217\n",
      "Epoch 46, CIFAR-10 Batch 1:  Loss:  0.281, Validation Acc.: 0.689, Train-Val Acc.: 0.219\n",
      "Epoch 46, CIFAR-10 Batch 2:  Loss:  0.296, Validation Acc.: 0.689, Train-Val Acc.: 0.207\n",
      "Epoch 46, CIFAR-10 Batch 3:  Loss:  0.290, Validation Acc.: 0.680, Train-Val Acc.: 0.212\n",
      "Epoch 46, CIFAR-10 Batch 4:  Loss:  0.289, Validation Acc.: 0.654, Train-Val Acc.: 0.255\n",
      "Epoch 46, CIFAR-10 Batch 5:  Loss:  0.310, Validation Acc.: 0.681, Train-Val Acc.: 0.221\n",
      "Epoch 47, CIFAR-10 Batch 1:  Loss:  0.250, Validation Acc.: 0.681, Train-Val Acc.: 0.248\n",
      "Epoch 47, CIFAR-10 Batch 2:  Loss:  0.256, Validation Acc.: 0.693, Train-Val Acc.: 0.223\n",
      "Epoch 47, CIFAR-10 Batch 3:  Loss:  0.217, Validation Acc.: 0.684, Train-Val Acc.: 0.248\n",
      "Epoch 47, CIFAR-10 Batch 4:  Loss:  0.283, Validation Acc.: 0.665, Train-Val Acc.: 0.227\n",
      "Epoch 47, CIFAR-10 Batch 5:  Loss:  0.262, Validation Acc.: 0.686, Train-Val Acc.: 0.222\n",
      "Epoch 48, CIFAR-10 Batch 1:  Loss:  0.217, Validation Acc.: 0.684, Train-Val Acc.: 0.265\n",
      "Epoch 48, CIFAR-10 Batch 2:  Loss:  0.244, Validation Acc.: 0.678, Train-Val Acc.: 0.227\n",
      "Epoch 48, CIFAR-10 Batch 3:  Loss:  0.217, Validation Acc.: 0.683, Train-Val Acc.: 0.243\n",
      "Epoch 48, CIFAR-10 Batch 4:  Loss:  0.283, Validation Acc.: 0.642, Train-Val Acc.: 0.283\n",
      "Epoch 48, CIFAR-10 Batch 5:  Loss:  0.235, Validation Acc.: 0.687, Train-Val Acc.: 0.225\n",
      "Epoch 49, CIFAR-10 Batch 1:  Loss:  0.256, Validation Acc.: 0.671, Train-Val Acc.: 0.262\n",
      "Epoch 49, CIFAR-10 Batch 2:  Loss:  0.245, Validation Acc.: 0.684, Train-Val Acc.: 0.248\n",
      "Epoch 49, CIFAR-10 Batch 3:  Loss:  0.222, Validation Acc.: 0.687, Train-Val Acc.: 0.229\n",
      "Epoch 49, CIFAR-10 Batch 4:  Loss:  0.280, Validation Acc.: 0.654, Train-Val Acc.: 0.262\n",
      "Epoch 49, CIFAR-10 Batch 5:  Loss:  0.252, Validation Acc.: 0.685, Train-Val Acc.: 0.234\n",
      "Epoch 50, CIFAR-10 Batch 1:  Loss:  0.255, Validation Acc.: 0.667, Train-Val Acc.: 0.242\n",
      "Epoch 50, CIFAR-10 Batch 2:  Loss:  0.300, Validation Acc.: 0.663, Train-Val Acc.: 0.236\n",
      "Epoch 50, CIFAR-10 Batch 3:  Loss:  0.232, Validation Acc.: 0.681, Train-Val Acc.: 0.238\n",
      "Epoch 50, CIFAR-10 Batch 4:  Loss:  0.221, Validation Acc.: 0.676, Train-Val Acc.: 0.263\n",
      "Epoch 50, CIFAR-10 Batch 5:  Loss:  0.259, Validation Acc.: 0.668, Train-Val Acc.: 0.254\n"
     ]
    }
   ],
   "source": [
    "\"\"\"\n",
    "DON'T MODIFY ANYTHING IN THIS CELL\n",
    "\"\"\"\n",
    "save_model_path = './image_classification'\n",
    "\n",
    "print('Training...')\n",
    "with tf.Session() as sess:\n",
    "    # Initializing the variables\n",
    "    sess.run(tf.global_variables_initializer())\n",
    "    \n",
    "    # Training cycle\n",
    "    for epoch in range(epochs):\n",
    "        # Loop over all batches\n",
    "        n_batches = 5\n",
    "        for batch_i in range(1, n_batches + 1):\n",
    "            for batch_features, batch_labels in helper.load_preprocess_training_batch(batch_i, batch_size):\n",
    "                train_neural_network(sess, optimizer, keep_probability, batch_features, batch_labels)\n",
    "            print('Epoch {:>2}, CIFAR-10 Batch {}:  '.format(epoch + 1, batch_i), end='')\n",
    "            print_stats(sess, batch_features, batch_labels, cost, accuracy)\n",
    "            \n",
    "    # Save Model\n",
    "    saver = tf.train.Saver()\n",
    "    save_path = saver.save(sess, save_model_path)"
   ]
  },
  {
   "cell_type": "markdown",
   "metadata": {},
   "source": [
    "# Checkpoint\n",
    "The model has been saved to disk.\n",
    "## Test Model\n",
    "Test your model against the test dataset.  This will be your final accuracy. You should have an accuracy greater than 50%. If you don't, keep tweaking the model architecture and parameters."
   ]
  },
  {
   "cell_type": "code",
   "execution_count": 23,
   "metadata": {},
   "outputs": [
    {
     "name": "stdout",
     "output_type": "stream",
     "text": [
      "INFO:tensorflow:Restoring parameters from ./image_classification\n",
      "Testing Accuracy: 0.6568761497735978\n",
      "\n"
     ]
    },
    {
     "data": {
      "image/png": "[encoded data removed]",
      "text/plain": [
       "<matplotlib.figure.Figure at 0x109474ba8>"
      ]
     },
     "metadata": {
      "image/png": {
       "height": 319,
       "width": 355
      }
     },
     "output_type": "display_data"
    }
   ],
   "source": [
    "\"\"\"\n",
    "DON'T MODIFY ANYTHING IN THIS CELL\n",
    "\"\"\"\n",
    "%matplotlib inline\n",
    "%config InlineBackend.figure_format = 'retina'\n",
    "\n",
    "import tensorflow as tf\n",
    "import pickle\n",
    "import helper\n",
    "import random\n",
    "\n",
    "# Set batch size if not already set\n",
    "try:\n",
    "    if batch_size:\n",
    "        pass\n",
    "except NameError:\n",
    "    batch_size = 64\n",
    "\n",
    "save_model_path = './image_classification'\n",
    "n_samples = 4\n",
    "top_n_predictions = 3\n",
    "\n",
    "def test_model():\n",
    "    \"\"\"\n",
    "    Test the saved model against the test dataset\n",
    "    \"\"\"\n",
    "\n",
    "    test_features, test_labels = pickle.load(open('preprocess_test.p', mode='rb'))\n",
    "    loaded_graph = tf.Graph()\n",
    "\n",
    "    with tf.Session(graph=loaded_graph) as sess:\n",
    "        # Load model\n",
    "        loader = tf.train.import_meta_graph(save_model_path + '.meta')\n",
    "        loader.restore(sess, save_model_path)\n",
    "\n",
    "        # Get Tensors from loaded model\n",
    "        loaded_x = loaded_graph.get_tensor_by_name('x:0')\n",
    "        loaded_y = loaded_graph.get_tensor_by_name('y:0')\n",
    "        loaded_keep_prob = loaded_graph.get_tensor_by_name('keep_prob:0')\n",
    "        loaded_logits = loaded_graph.get_tensor_by_name('logits:0')\n",
    "        loaded_acc = loaded_graph.get_tensor_by_name('accuracy:0')\n",
    "        \n",
    "        # Get accuracy in batches for memory limitations\n",
    "        test_batch_acc_total = 0\n",
    "        test_batch_count = 0\n",
    "        \n",
    "        for test_feature_batch, test_label_batch in helper.batch_features_labels(test_features, test_labels, batch_size):\n",
    "            test_batch_acc_total += sess.run(\n",
    "                loaded_acc,\n",
    "                feed_dict={loaded_x: test_feature_batch, loaded_y: test_label_batch, loaded_keep_prob: 1.0})\n",
    "            test_batch_count += 1\n",
    "\n",
    "        print('Testing Accuracy: {}\\n'.format(test_batch_acc_total/test_batch_count))\n",
    "\n",
    "        # Print Random Samples\n",
    "        random_test_features, random_test_labels = tuple(zip(*random.sample(list(zip(test_features, test_labels)), n_samples)))\n",
    "        random_test_predictions = sess.run(\n",
    "            tf.nn.top_k(tf.nn.softmax(loaded_logits), top_n_predictions),\n",
    "            feed_dict={loaded_x: random_test_features, loaded_y: random_test_labels, loaded_keep_prob: 1.0})\n",
    "        helper.display_image_predictions(random_test_features, random_test_labels, random_test_predictions)\n",
    "\n",
    "\n",
    "test_model()"
   ]
  },
  {
   "cell_type": "markdown",
   "metadata": {},
   "source": [
    "## Why 50-80% Accuracy?\n",
    "You might be wondering why you can't get an accuracy any higher. First things first, 50% isn't bad for a simple CNN.  Pure guessing would get you 10% accuracy. However, you might notice people are getting scores [well above 80%](http://rodrigob.github.io/are_we_there_yet/build/classification_datasets_results.html#43494641522d3130).  That's because we haven't taught you all there is to know about neural networks. We still need to cover a few more techniques.\n",
    "## Submitting This Project\n",
    "When submitting this project, make sure to run all the cells before saving the notebook.  Save the notebook file as \"dlnd_image_classification.ipynb\" and save it as a HTML file under \"File\" -> \"Download as\".  Include the \"helper.py\" and \"problem_unittests.py\" files in your submission."
   ]
  }
 ],
 "metadata": {
  "kernelspec": {
   "display_name": "Python 3",
   "language": "python",
   "name": "python3"
  },
  "language_info": {
   "codemirror_mode": {
    "name": "ipython",
    "version": 3
   },
   "file_extension": ".py",
   "mimetype": "text/x-python",
   "name": "python",
   "nbconvert_exporter": "python",
   "pygments_lexer": "ipython3",
   "version": "3.5.3"
  }
 },
 "nbformat": 4,
 "nbformat_minor": 1
}
